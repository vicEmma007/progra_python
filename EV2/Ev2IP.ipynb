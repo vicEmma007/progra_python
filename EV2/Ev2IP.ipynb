{
  "nbformat": 4,
  "nbformat_minor": 0,
  "metadata": {
    "colab": {
      "provenance": [],
      "authorship_tag": "ABX9TyMY+365PQR9vwk75LKz/ZaH",
      "include_colab_link": true
    },
    "kernelspec": {
      "name": "python3",
      "display_name": "Python 3"
    },
    "language_info": {
      "name": "python"
    }
  },
  "cells": [
    {
      "cell_type": "markdown",
      "metadata": {
        "id": "view-in-github",
        "colab_type": "text"
      },
      "source": [
        "<a href=\"https://colab.research.google.com/github/vicEmma007/progra_python/blob/main/EV2/Ev2IP.ipynb\" target=\"_parent\"><img src=\"https://colab.research.google.com/assets/colab-badge.svg\" alt=\"Open In Colab\"/></a>"
      ]
    },
    {
      "cell_type": "markdown",
      "source": [
        "# Explicacion de clase\n",
        "La clase Persona tiene un método constructor __init__ que se llama cuando se crea una nueva instancia de la clase. Este método inicializa los atributos nombre y edad de la persona con los valores proporcionados al crear la instancia.\n",
        "\n",
        "La clase también tiene un método saludar que imprime un mensaje de saludo utilizando los atributos nombre y edad de la instancia.\n",
        "\n",
        "Creamos una instancia de la clase Persona llamada personaReal con el nombre \"Victor\" y la edad 19, (que es mi nombre y mi edad).\n",
        "\n",
        "Luego, llamamos al método saludar de la instancia personaReal, que imprime un mensaje de saludo con el nombre y la edad de la persona."
      ],
      "metadata": {
        "id": "q5FYhGlzfNd5"
      }
    },
    {
      "cell_type": "code",
      "source": [
        "class Persona:\n",
        "    def __init__(self,nombre,edad):\n",
        "        self.nombre = nombre\n",
        "        self.edad = edad\n",
        "\n",
        "    def saludar(self):\n",
        "        print(f\"hola, mi nombre es {self.nombre}, y tengo {self.edad} años\")\n",
        "\n",
        "\n",
        "personaReal = Persona(\"Victor\", 19)\n",
        "\n",
        "personaReal.saludar()"
      ],
      "metadata": {
        "id": "yqSN34X4ZnsA",
        "colab": {
          "base_uri": "https://localhost:8080/"
        },
        "outputId": "77db4bfc-5456-4d48-8739-55e58fe2da1d"
      },
      "execution_count": 1,
      "outputs": [
        {
          "output_type": "stream",
          "name": "stdout",
          "text": [
            "hola, mi nombre es Victor, y tengo 19 años\n"
          ]
        }
      ]
    }
  ]
}