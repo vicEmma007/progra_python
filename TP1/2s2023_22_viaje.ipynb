{
  "nbformat": 4,
  "nbformat_minor": 0,
  "metadata": {
    "colab": {
      "provenance": [],
      "include_colab_link": true
    },
    "kernelspec": {
      "name": "python3",
      "display_name": "Python 3"
    },
    "language_info": {
      "name": "python"
    }
  },
  "cells": [
    {
      "cell_type": "markdown",
      "metadata": {
        "id": "view-in-github",
        "colab_type": "text"
      },
      "source": [
        "<a href=\"https://colab.research.google.com/github/vicEmma007/progra_python/blob/main/TP1/2s2023_22_viaje.ipynb\" target=\"_parent\"><img src=\"https://colab.research.google.com/assets/colab-badge.svg\" alt=\"Open In Colab\"/></a>"
      ]
    },
    {
      "cell_type": "markdown",
      "source": [
        "# **Viaje**\n",
        "\n",
        "Tienes $600 pesos, y un coche que que viaja a una velocidad constante de de 50km/hora y tiene el tanque sin gasolina.\n",
        "\n",
        "¿Qué distancia recorrerás con ese dinero?\n",
        "¿En cuánto tiempo recorrerás esa distancia?\n",
        "\n",
        "La distancia tiene que estar expresada en kilómetros, y el tiempo en minutos y segundos."
      ],
      "metadata": {
        "id": "lTIcfnbmV0rY"
      }
    },
    {
      "cell_type": "markdown",
      "source": [
        "> Es indispensable tomar el curso **JUPYTER NOTEBOOK, GOOGLE COLAB Y MARKDOWN**. Temas **BIENVENIDA, MARKDOWN Y GOOGLE COLAB**.\n",
        "\n"
      ],
      "metadata": {
        "id": "gqRQ8m7Q_Hbo"
      }
    },
    {
      "cell_type": "markdown",
      "source": [
        "|Datos|datatype|Origen|variables|Fórmula|\n",
        "|---|---|---|---|---|\n",
        "|Dinero|float|Se tiene|dinero|``=600.00``|\n",
        "|Velocidad|float|Se tiene|v|``=50.00``|\n",
        "|Precio gas|float|Se pregunta|precio (float), _precio (str)||\n",
        "|Litros|float|Se calcula|litros|``=dinero/precio``|\n",
        "|Rendimiento|float|Se pregunta|rendimiento (float), _rendimiento (str)||\n",
        "|Distancia|float|Se calcula|d|``=rendimento*litros``|\n",
        "|Tiempo|float|Se calcula|t|``=d/v``|\n",
        "|Horas|float|Se calcula|hh|``=int(t)``|\n",
        "|Minutos|float|Se calcula|mm|``=(t-hh)*60``|"
      ],
      "metadata": {
        "id": "9deKu9ub_9ri"
      }
    },
    {
      "cell_type": "code",
      "execution_count": null,
      "metadata": {
        "id": "m74yyGh7VwRp"
      },
      "outputs": [],
      "source": [
        "dinero=600.00"
      ]
    },
    {
      "cell_type": "code",
      "source": [
        "v=50.00"
      ],
      "metadata": {
        "id": "wMJRh89jCU3p"
      },
      "execution_count": null,
      "outputs": []
    },
    {
      "cell_type": "code",
      "source": [
        "# El precio no debe omitirse.\n",
        "# El precio debe ser un número.\n",
        "# El precio debe ser mayor a cero.\n",
        "# El programa no deja de preguntar el precio, sino hasta que\n",
        "# está correcto.\n",
        "# Me debe mostrar errores específicos (error, causa, acción).\n",
        "\n",
        "while True:\n",
        "    _precio=input(\"Dame el precio por litro de gasolina: \")\n",
        "    if (_precio==''):\n",
        "        print(\"Entrada incorrecta. El precio no puede omitirse. Intenta de nuevo.\")\n",
        "        continue\n",
        "    try:\n",
        "        precio=float(_precio)\n",
        "    except:\n",
        "        print(\"Entrada incorrecta. El precio debe ser un número. Intenta de nuevo.\")\n",
        "        continue\n",
        "    # Si llego aquí, ya tengo un valor numérico en precio.\n",
        "    if (not precio>0):\n",
        "        print(\"Entrada incorrecta. El precio debe ser mayor a cero. Intenta de nuevo.\")\n",
        "        continue\n",
        "    # Si todo salió bien, se sale del while\n",
        "    break"
      ],
      "metadata": {
        "colab": {
          "base_uri": "https://localhost:8080/"
        },
        "id": "xfo4gv3rCooZ",
        "outputId": "7907f6a8-5aa7-428a-ef63-c774902efcf2"
      },
      "execution_count": null,
      "outputs": [
        {
          "name": "stdout",
          "output_type": "stream",
          "text": [
            "Dame el precio por litro de gasolina: \n",
            "Entrada incorrecta. El precio no puede omitirse. Intenta de nuevo.\n",
            "Dame el precio por litro de gasolina: \n",
            "Entrada incorrecta. El precio no puede omitirse. Intenta de nuevo.\n",
            "Dame el precio por litro de gasolina: hola\n",
            "Entrada incorrecta. El precio debe ser un número. Intenta de nuevo.\n",
            "Dame el precio por litro de gasolina: -10.8\n",
            "Entrada incorrecta. El precio debe ser mayor a cero. Intenta de nuevo.\n",
            "Dame el precio por litro de gasolina: 24.15\n"
          ]
        }
      ]
    },
    {
      "cell_type": "code",
      "source": [
        "litros=dinero/precio"
      ],
      "metadata": {
        "id": "yWzjMYk8DyZS"
      },
      "execution_count": null,
      "outputs": []
    },
    {
      "cell_type": "code",
      "source": [
        "_rendimiento=input(\"Dame el rendimiento del coche: \")\n",
        "rendimiento=float(_rendimiento)"
      ],
      "metadata": {
        "colab": {
          "base_uri": "https://localhost:8080/"
        },
        "id": "nOqa02IwEj6S",
        "outputId": "a857e4cf-6a54-4ab3-9337-3f56c1992df0"
      },
      "execution_count": null,
      "outputs": [
        {
          "name": "stdout",
          "output_type": "stream",
          "text": [
            "Dame el rendimiento del coche: 10.0\n"
          ]
        }
      ]
    },
    {
      "cell_type": "code",
      "source": [
        "d=rendimiento*litros\n",
        "t=d/v\n",
        "hh=int(t)\n",
        "mm=int((t-hh)*60)"
      ],
      "metadata": {
        "id": "aIIuX6M4E4v6"
      },
      "execution_count": null,
      "outputs": []
    },
    {
      "cell_type": "code",
      "source": [
        "print(f\"El recorrido será de {d:.2f} km, en {hh} horas y {mm} minutos\")"
      ],
      "metadata": {
        "colab": {
          "base_uri": "https://localhost:8080/"
        },
        "id": "DqsrkjdhFVWD",
        "outputId": "8f051951-2a7b-4807-8c17-1aa0c50e0e5b"
      },
      "execution_count": null,
      "outputs": [
        {
          "output_type": "stream",
          "name": "stdout",
          "text": [
            "El recorrido será de 246.91 km, en 4 horas y 56 minutos\n"
          ]
        }
      ]
    }
  ]
}