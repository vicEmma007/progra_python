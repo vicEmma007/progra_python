{
  "nbformat": 4,
  "nbformat_minor": 0,
  "metadata": {
    "colab": {
      "provenance": [],
      "authorship_tag": "ABX9TyMBJnwU+ek8VwFzc2DxZhQN",
      "include_colab_link": true
    },
    "kernelspec": {
      "name": "python3",
      "display_name": "Python 3"
    },
    "language_info": {
      "name": "python"
    }
  },
  "cells": [
    {
      "cell_type": "markdown",
      "metadata": {
        "id": "view-in-github",
        "colab_type": "text"
      },
      "source": [
        "<a href=\"https://colab.research.google.com/github/vicEmma007/progra_python/blob/main/EV3/Ev3.ipynb\" target=\"_parent\"><img src=\"https://colab.research.google.com/assets/colab-badge.svg\" alt=\"Open In Colab\"/></a>"
      ]
    },
    {
      "cell_type": "markdown",
      "source": [
        "# componentes desarrollados en esta fase.\n",
        "El programa comienza importando las librerías pickle y os, vistas ya antes en clase. La librería pickle nos proporciona las funciones necesarias para serializar y deserializar objetos a pickle.\n",
        "La librería os nos proporciona funciones para manipular el sistema operativo, como crear carpetas y abrir archivos.\n",
        "\n",
        "Creamos un objeto complejo. En este caso, el objeto es un diccionario con cuatro propiedades: nombre, edad, ciudad, fecha_nacimiento.\n",
        "\n",
        "En la tercera línea, creamos una carpeta para almacenar el archivo pickle. Para ello, utilizamos la función os.makedirs(). Esta función recibe un parámetro: el nombre de la carpeta que queremos crear. El parámetro exist_ok=True indica que si la carpeta ya existe, no se creará una nueva carpeta.\n",
        "\n",
        "En la cuarta línea, serializamos el objeto a pickle en el archivo mi_objeto.pickle, que se encuentra en la carpeta archivos. Para ello, utilizamos la función pickle.dump(). Esta función recibe dos parámetros: el objeto que queremos serializar y el archivo en el que queremos almacenarlo.\n",
        "\n",
        "En la sexta línea, recuperamos el contenido del archivo mi_objeto.pickle, que se encuentra en la carpeta archivos. Para ello, utilizamos la función pickle.load(). Esta función recibe un parámetro: el archivo del que queremos recuperar el contenido.\n",
        "\n",
        "En la séptima línea, imprimimos el objeto recuperado."
      ],
      "metadata": {
        "id": "zVHpfORTF7wH"
      }
    },
    {
      "cell_type": "code",
      "execution_count": 11,
      "metadata": {
        "colab": {
          "base_uri": "https://localhost:8080/"
        },
        "id": "hsNWuxPAC85F",
        "outputId": "2ac40578-311b-42ef-9b89-474a150068d2"
      },
      "outputs": [
        {
          "output_type": "stream",
          "name": "stdout",
          "text": [
            "{'Nombre': 'Victor Emmanuel', 'Edad': 19, 'Ciudad': 'Monterrey', 'Fecha_nacimiento': '2004, 03, 17'}\n"
          ]
        }
      ],
      "source": [
        "# Importamos las librerías necesarias\n",
        "import pickle\n",
        "import os\n",
        "\n",
        "mi_objeto = {\n",
        "    \"Nombre\": \"Victor Emmanuel\",\n",
        "    \"Edad\": 19,\n",
        "    \"Ciudad\": \"Monterrey\",\n",
        "    \"Fecha_nacimiento\": \"2004, 03, 17\"\n",
        "}\n",
        "\n",
        "# Creamos una carpeta para almacenar el archivo pickle\n",
        "os.makedirs(\"archivos\", exist_ok=True)\n",
        "\n",
        "# Serializamos el objeto a pickle\n",
        "with open(os.path.join(\"archivos\", \"mi_objeto.pickle\"), \"wb\") as archivo:\n",
        "    pickle.dump(mi_objeto, archivo)\n",
        "\n",
        "# Recuperamos el contenido del archivo\n",
        "with open(os.path.join(\"archivos\", \"mi_objeto.pickle\"), \"rb\") as archivo:\n",
        "    objeto_recuperado = pickle.load(archivo)\n",
        "\n",
        "# Imprimimos el objeto recuperado\n",
        "print(objeto_recuperado)\n",
        "\n"
      ]
    }
  ]
}